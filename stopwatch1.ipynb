{
  "nbformat": 4,
  "nbformat_minor": 0,
  "metadata": {
    "colab": {
      "provenance": [],
      "gpuType": "T4",
      "authorship_tag": "ABX9TyNJbtggV/C07EHwzsqvnBHv",
      "include_colab_link": true
    },
    "kernelspec": {
      "name": "python3",
      "display_name": "Python 3"
    },
    "language_info": {
      "name": "python"
    },
    "accelerator": "GPU"
  },
  "cells": [
    {
      "cell_type": "markdown",
      "metadata": {
        "id": "view-in-github",
        "colab_type": "text"
      },
      "source": [
        "<a href=\"https://colab.research.google.com/github/setyo-dwi-pratama/Stopwatch/blob/main/stopwatch1.ipynb\" target=\"_parent\"><img src=\"https://colab.research.google.com/assets/colab-badge.svg\" alt=\"Open In Colab\"/></a>"
      ]
    },
    {
      "cell_type": "code",
      "source": [
        "Waktu = int(input())\n",
        "\n",
        "import time\n",
        "\n",
        "def stopwatch(duration):\n",
        "    start_time = time.time()\n",
        "    end_time = start_time + duration\n",
        "\n",
        "    print(\"Siap! Waktu Dimulai!\")\n",
        "    while time.time() < end_time:\n",
        "        elapsed_time = time.time() - start_time\n",
        "        hours = int(elapsed_time / 3600)\n",
        "        minutes = int((elapsed_time % 3600) / 60)\n",
        "        seconds = int(elapsed_time % 60)\n",
        "        print(f\"Waktu Berjalan: {hours:02d}:{minutes:02d}:{seconds:02d}\")\n",
        "        time.sleep(1)\n",
        "\n",
        "    print(\"Waktu Anda Habis!\")\n",
        "\n",
        "stopwatch(Waktu)"
      ],
      "metadata": {
        "colab": {
          "base_uri": "https://localhost:8080/"
        },
        "id": "kbCuxBU104oU",
        "outputId": "af4a5ec6-29d3-480f-b6ea-e634d54b49c0"
      },
      "execution_count": 23,
      "outputs": [
        {
          "output_type": "stream",
          "name": "stdout",
          "text": [
            "6\n",
            "Siap! Waktu Dimulai!\n",
            "Waktu Berjalan: 00:00:00\n",
            "Waktu Berjalan: 00:00:01\n",
            "Waktu Berjalan: 00:00:02\n",
            "Waktu Berjalan: 00:00:03\n",
            "Waktu Berjalan: 00:00:04\n",
            "Waktu Berjalan: 00:00:05\n",
            "Waktu Anda Habis!\n"
          ]
        }
      ]
    }
  ]
}