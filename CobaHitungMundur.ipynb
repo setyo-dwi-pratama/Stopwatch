{
  "nbformat": 4,
  "nbformat_minor": 0,
  "metadata": {
    "colab": {
      "provenance": [],
      "gpuType": "T4",
      "authorship_tag": "ABX9TyNzd6YRdFlQN7W7V0Xz90ee",
      "include_colab_link": true
    },
    "kernelspec": {
      "name": "python3",
      "display_name": "Python 3"
    },
    "language_info": {
      "name": "python"
    },
    "accelerator": "GPU"
  },
  "cells": [
    {
      "cell_type": "markdown",
      "metadata": {
        "id": "view-in-github",
        "colab_type": "text"
      },
      "source": [
        "<a href=\"https://colab.research.google.com/github/setyo-dwi-pratama/Stopwatch/blob/main/CobaHitungMundur.ipynb\" target=\"_parent\"><img src=\"https://colab.research.google.com/assets/colab-badge.svg\" alt=\"Open In Colab\"/></a>"
      ]
    },
    {
      "cell_type": "code",
      "source": [
        "import streamlit as st\n",
        "import time\n",
        "\n",
        "st.set_page_config()\n",
        "st.title(\"Operasi Jam Pama Watch\")\n",
        "\n",
        "# Memasukkan panjang jalur dalam kilometer\n",
        "panjang = st.number_input(\"Panjang Jalur (km): \")\n",
        "kecepatan = 24\n",
        "\n",
        "# Menghitung waktu operasi ideal\n",
        "waktu_ideal = (panjang/kecepatan) * 60\n",
        "\n",
        "st.text(\"Waktu Ideal Operasi tiap Siklus adalah {} detik\".format(waktu_ideal))\n",
        "\n",
        "def hitung_waktu():\n",
        "    tampil_waktu = st.empty()\n",
        "    N = 24*60*60\n",
        "    total_detik = 0\n",
        "    a = 2\n",
        "\n",
        "    for detik in range(0, N, 1):\n",
        "        menit, detik = divmod(detik, 60)\n",
        "        tampil_waktu.metric(\"Waktu Anda\", f\"{menit:02d}:{detik:02d}\")\n",
        "        time.sleep(1)\n",
        "        total_detik += detik\n",
        "        if a == 1:\n",
        "            break\n",
        "    return total_detik\n",
        "\n",
        "tbl_mulai = st.button(\"Mulai\")\n",
        "\n",
        "if tbl_mulai:\n",
        "    total_detik = hitung_waktu()\n"
      ],
      "metadata": {
        "id": "7hCeALuB14CN"
      },
      "execution_count": null,
      "outputs": []
    }
  ]
}