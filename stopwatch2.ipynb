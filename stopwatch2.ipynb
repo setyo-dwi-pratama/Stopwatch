{
  "nbformat": 4,
  "nbformat_minor": 0,
  "metadata": {
    "colab": {
      "provenance": [],
      "gpuType": "T4",
      "authorship_tag": "ABX9TyPnrweCOixIpxnzlrw52MKX",
      "include_colab_link": true
    },
    "kernelspec": {
      "name": "python3",
      "display_name": "Python 3"
    },
    "language_info": {
      "name": "python"
    },
    "accelerator": "GPU"
  },
  "cells": [
    {
      "cell_type": "markdown",
      "metadata": {
        "id": "view-in-github",
        "colab_type": "text"
      },
      "source": [
        "<a href=\"https://colab.research.google.com/github/setyo-dwi-pratama/Stopwatch/blob/main/stopwatch2.ipynb\" target=\"_parent\"><img src=\"https://colab.research.google.com/assets/colab-badge.svg\" alt=\"Open In Colab\"/></a>"
      ]
    },
    {
      "cell_type": "code",
      "execution_count": 7,
      "metadata": {
        "colab": {
          "base_uri": "https://localhost:8080/",
          "height": 495
        },
        "id": "xjFaSiH-_wch",
        "outputId": "42393824-3ac1-4979-f9db-c46c37b5d158"
      },
      "outputs": [
        {
          "output_type": "stream",
          "name": "stdout",
          "text": [
            "Waktu Berjalan: 00:00:09\n",
            "Waktu Berjalan: 00:00:10\n",
            "Waktu Berjalan: 00:00:11\n",
            "Waktu Berjalan: 00:00:12\n",
            "Waktu Berjalan: 00:00:13\n",
            "Waktu Berjalan: 00:00:14\n",
            "Waktu Berjalan: 00:00:15\n",
            "Waktu Berjalan: 00:00:16\n",
            "Waktu Berjalan: 00:00:17\n",
            "Waktu Berjalan: 00:00:18\n"
          ]
        },
        {
          "output_type": "error",
          "ename": "KeyboardInterrupt",
          "evalue": "ignored",
          "traceback": [
            "\u001b[0;31m---------------------------------------------------------------------------\u001b[0m",
            "\u001b[0;31mKeyboardInterrupt\u001b[0m                         Traceback (most recent call last)",
            "\u001b[0;32m<ipython-input-7-9b9696a069f9>\u001b[0m in \u001b[0;36m<cell line: 37>\u001b[0;34m()\u001b[0m\n\u001b[1;32m     35\u001b[0m     \u001b[0mprint\u001b[0m\u001b[0;34m(\u001b[0m\u001b[0;34m\"Waktu Anda Habis!\"\u001b[0m\u001b[0;34m)\u001b[0m\u001b[0;34m\u001b[0m\u001b[0;34m\u001b[0m\u001b[0m\n\u001b[1;32m     36\u001b[0m \u001b[0;34m\u001b[0m\u001b[0m\n\u001b[0;32m---> 37\u001b[0;31m \u001b[0mstopwatch\u001b[0m\u001b[0;34m(\u001b[0m\u001b[0mWaktu\u001b[0m\u001b[0;34m)\u001b[0m\u001b[0;34m\u001b[0m\u001b[0;34m\u001b[0m\u001b[0m\n\u001b[0m",
            "\u001b[0;32m<ipython-input-7-9b9696a069f9>\u001b[0m in \u001b[0;36mstopwatch\u001b[0;34m(duration)\u001b[0m\n\u001b[1;32m     31\u001b[0m         \u001b[0mseconds\u001b[0m \u001b[0;34m=\u001b[0m \u001b[0mint\u001b[0m\u001b[0;34m(\u001b[0m\u001b[0melapsed_time\u001b[0m \u001b[0;34m%\u001b[0m \u001b[0;36m60\u001b[0m\u001b[0;34m)\u001b[0m\u001b[0;34m\u001b[0m\u001b[0;34m\u001b[0m\u001b[0m\n\u001b[1;32m     32\u001b[0m         \u001b[0mprint\u001b[0m\u001b[0;34m(\u001b[0m\u001b[0;34mf\"Waktu Berjalan: {hours:02d}:{minutes:02d}:{seconds:02d}\"\u001b[0m\u001b[0;34m)\u001b[0m\u001b[0;34m\u001b[0m\u001b[0;34m\u001b[0m\u001b[0m\n\u001b[0;32m---> 33\u001b[0;31m         \u001b[0mtime\u001b[0m\u001b[0;34m.\u001b[0m\u001b[0msleep\u001b[0m\u001b[0;34m(\u001b[0m\u001b[0;36m1\u001b[0m\u001b[0;34m)\u001b[0m\u001b[0;34m\u001b[0m\u001b[0;34m\u001b[0m\u001b[0m\n\u001b[0m\u001b[1;32m     34\u001b[0m \u001b[0;34m\u001b[0m\u001b[0m\n\u001b[1;32m     35\u001b[0m     \u001b[0mprint\u001b[0m\u001b[0;34m(\u001b[0m\u001b[0;34m\"Waktu Anda Habis!\"\u001b[0m\u001b[0;34m)\u001b[0m\u001b[0;34m\u001b[0m\u001b[0;34m\u001b[0m\u001b[0m\n",
            "\u001b[0;31mKeyboardInterrupt\u001b[0m: "
          ]
        }
      ],
      "source": [
        "import time\n",
        "\n",
        "#Parameter\n",
        "Jarak = float(input(\"Masukkan Jarak Front ke Disposal (KM): \"))\n",
        "Speed = 25\n",
        "DisposalTime = 60\n",
        "WaitingTime = 120\n",
        "\n",
        "#Formula\n",
        "Waktu1 = (Jarak + Jarak)/Speed\n",
        "Menit = Waktu1 * 60\n",
        "Detik = Menit * 60\n",
        "\n",
        "#Total Cycle HD dengan Parameter Speed 25 dan Jarak yang terinput\n",
        "#Dalam Total Cycle Time HD juga sudah diberikan waktu Disposal 1 Menit dan Waiting Time 2 Menit, Sehingga:\n",
        "WaktuTotal = Detik + DisposalTime + WaitingTime\n",
        "print(f\"Waktu Cycle Time Anda {WaktuTotal/60} Menit\")\n",
        "\n",
        "\n",
        "Waktu = (WaktuTotal)\n",
        "\n",
        "def stopwatch(duration):\n",
        "    start_time = time.time()\n",
        "    end_time = start_time + duration\n",
        "\n",
        "    print(\"Siap! Waktu Dimulai!\")\n",
        "    while time.time() < end_time:\n",
        "        elapsed_time = time.time() - start_time\n",
        "        hours = int(elapsed_time / 3600)\n",
        "        minutes = int((elapsed_time % 3600) / 60)\n",
        "        seconds = int(elapsed_time % 60)\n",
        "        print(f\"Waktu Berjalan: {hours:02d}:{minutes:02d}:{seconds:02d}\")\n",
        "        time.sleep(1)\n",
        "\n",
        "    print(\"Waktu Anda Habis!\")\n",
        "\n",
        "stopwatch(Waktu)"
      ]
    },
    {
      "cell_type": "code",
      "source": [
        "import time\n",
        "import threading\n",
        "\n",
        "#Parameter\n",
        "Jarak = float(input(\"Masukkan Jarak Front ke Disposal (KM): \"))\n",
        "Speed = 25\n",
        "DisposalTime = 60\n",
        "WaitingTime = 120\n",
        "\n",
        "#Formula\n",
        "Waktu1 = (Jarak + Jarak)/Speed\n",
        "Menit = Waktu1 * 60\n",
        "Detik = Menit * 60\n",
        "\n",
        "#Total Cycle HD dengan Parameter Speed 25 dan Jarak yang terinput\n",
        "#Dalam Total Cycle Time HD juga sudah diberikan waktu Disposal 1 Menit dan Waiting Time 2 Menit, Sehingga:\n",
        "WaktuTotal = Detik + DisposalTime + WaitingTime\n",
        "print(f\"Waktu Cycle Time Anda {WaktuTotal/60} Menit\")\n",
        "\n",
        "Waktu = (WaktuTotal)\n",
        "\n",
        "# Global variables\n",
        "stop_timer = False\n",
        "\n",
        "def stopwatch(duration):\n",
        "    start_time = time.time()\n",
        "    end_time = start_time + duration\n",
        "\n",
        "    print(\"Siap! Waktu Dimulai!\")\n",
        "\n",
        "    def print_elapsed_time():\n",
        "        while not stop_timer and time.time() < end_time:\n",
        "            elapsed_time = time.time() - start_time\n",
        "            hours = int(elapsed_time / 3600)\n",
        "            minutes = int((elapsed_time % 3600) / 60)\n",
        "            seconds = int(elapsed_time % 60)\n",
        "            print(f\"Waktu Berjalan: {hours:02d}:{minutes:02d}:{seconds:02d}\")\n",
        "            time.sleep(1)\n",
        "\n",
        "        if stop_timer:\n",
        "            print(\"Waktu Dihentikan!\")\n",
        "        else:\n",
        "            print(\"Waktu Anda Habis!\")\n",
        "\n",
        "    timer_thread = threading.Thread(target=print_elapsed_time)\n",
        "    timer_thread.start()\n",
        "\n",
        "    # Menghentikan Program ketik s\n",
        "    stop_input = input(\"Tekan 'S' untuk menghentikan waktu: \")\n",
        "    if stop_input.lower() == 's':\n",
        "        global stop_timer\n",
        "        stop_timer = True\n",
        "\n",
        "    timer_thread.join()  # Wait for the timer thread to finish\n",
        "\n",
        "stopwatch(Waktu)"
      ],
      "metadata": {
        "colab": {
          "base_uri": "https://localhost:8080/"
        },
        "id": "AbesmlmlC0b9",
        "outputId": "ffc59b4c-f16f-42f2-a04a-2b031629416f"
      },
      "execution_count": 6,
      "outputs": [
        {
          "output_type": "stream",
          "name": "stdout",
          "text": [
            "Masukkan Jarak Front ke Disposal (KM): 1\n",
            "Waktu Cycle Time Anda 7.8 Menit\n",
            "Siap! Waktu Dimulai!\n",
            "Waktu Berjalan: 00:00:00\n",
            "Waktu Berjalan: 00:00:01\n",
            "Waktu Berjalan: 00:00:02\n",
            "Waktu Berjalan: 00:00:03\n",
            "Waktu Berjalan: 00:00:04\n",
            "Waktu Berjalan: 00:00:05\n",
            "Waktu Berjalan: 00:00:06\n",
            "Waktu Berjalan: 00:00:07\n",
            "Waktu Berjalan: 00:00:08\n",
            "Waktu Berjalan: 00:00:09\n",
            "Tekan 'S' untuk menghentikan waktu: s\n",
            "Waktu Berjalan: 00:00:10\n",
            "Waktu Berjalan: 00:00:11\n",
            "Waktu Dihentikan!\n"
          ]
        }
      ]
    }
  ]
}